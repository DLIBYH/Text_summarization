{
 "cells": [
  {
   "cell_type": "code",
   "execution_count": 1,
   "id": "14213304",
   "metadata": {
    "_cell_guid": "b1076dfc-b9ad-4769-8c92-a6c4dae69d19",
    "_uuid": "8f2839f25d086af736a60e9eeb907d3b93b6e0e5",
    "execution": {
     "iopub.execute_input": "2024-11-06T07:22:27.614866Z",
     "iopub.status.busy": "2024-11-06T07:22:27.614336Z",
     "iopub.status.idle": "2024-11-06T07:22:28.569985Z",
     "shell.execute_reply": "2024-11-06T07:22:28.568732Z"
    },
    "papermill": {
     "duration": 0.963904,
     "end_time": "2024-11-06T07:22:28.572898",
     "exception": false,
     "start_time": "2024-11-06T07:22:27.608994",
     "status": "completed"
    },
    "tags": []
   },
   "outputs": [
    {
     "name": "stdout",
     "output_type": "stream",
     "text": [
      "/kaggle/input/newspaper-text-summarization-cnn-dailymail/cnn_dailymail/validation.csv\n",
      "/kaggle/input/newspaper-text-summarization-cnn-dailymail/cnn_dailymail/train.csv\n",
      "/kaggle/input/newspaper-text-summarization-cnn-dailymail/cnn_dailymail/test.csv\n"
     ]
    }
   ],
   "source": [
    "# This Python 3 environment comes with many helpful analytics libraries installed\n",
    "# It is defined by the kaggle/python Docker image: https://github.com/kaggle/docker-python\n",
    "# For example, here's several helpful packages to load\n",
    "\n",
    "import numpy as np # linear algebra\n",
    "import pandas as pd # data processing, CSV file I/O (e.g. pd.read_csv)\n",
    "\n",
    "# Input data files are available in the read-only \"../input/\" directory\n",
    "# For example, running this (by clicking run or pressing Shift+Enter) will list all files under the input directory\n",
    "\n",
    "import os\n",
    "for dirname, _, filenames in os.walk('/kaggle/input'):\n",
    "    for filename in filenames:\n",
    "        print(os.path.join(dirname, filename))\n",
    "\n",
    "# You can write up to 20GB to the current directory (/kaggle/working/) that gets preserved as output when you create a version using \"Save & Run All\" \n",
    "# You can also write temporary files to /kaggle/temp/, but they won't be saved outside of the current session"
   ]
  },
  {
   "cell_type": "code",
   "execution_count": 2,
   "id": "0335ddcf",
   "metadata": {
    "execution": {
     "iopub.execute_input": "2024-11-06T07:22:28.582581Z",
     "iopub.status.busy": "2024-11-06T07:22:28.582018Z",
     "iopub.status.idle": "2024-11-06T07:22:32.146721Z",
     "shell.execute_reply": "2024-11-06T07:22:32.145482Z"
    },
    "papermill": {
     "duration": 3.571858,
     "end_time": "2024-11-06T07:22:32.149206",
     "exception": false,
     "start_time": "2024-11-06T07:22:28.577348",
     "status": "completed"
    },
    "tags": []
   },
   "outputs": [
    {
     "name": "stdout",
     "output_type": "stream",
     "text": [
      "[nltk_data] Downloading package stopwords to /usr/share/nltk_data...\n",
      "[nltk_data]   Package stopwords is already up-to-date!\n"
     ]
    }
   ],
   "source": [
    "import pandas as pd\n",
    "import matplotlib.pyplot as plt\n",
    "import seaborn as sns\n",
    "import plotly.express as px\n",
    "from matplotlib import style\n",
    "style.use('ggplot')\n",
    "import re\n",
    "from nltk.tokenize import word_tokenize\n",
    "from nltk.stem import PorterStemmer\n",
    "from nltk.corpus import stopwords\n",
    "import nltk\n",
    "nltk.download('stopwords')\n",
    "stop_words = set(stopwords.words('english'))\n",
    "from sklearn.feature_extraction.text import TfidfVectorizer"
   ]
  },
  {
   "cell_type": "markdown",
   "id": "09a2dc01",
   "metadata": {
    "papermill": {
     "duration": 0.002977,
     "end_time": "2024-11-06T07:22:32.155545",
     "exception": false,
     "start_time": "2024-11-06T07:22:32.152568",
     "status": "completed"
    },
    "tags": []
   },
   "source": [
    "Loading Data"
   ]
  },
  {
   "cell_type": "code",
   "execution_count": 3,
   "id": "d278fdab",
   "metadata": {
    "execution": {
     "iopub.execute_input": "2024-11-06T07:22:32.164789Z",
     "iopub.status.busy": "2024-11-06T07:22:32.163344Z",
     "iopub.status.idle": "2024-11-06T07:23:12.634999Z",
     "shell.execute_reply": "2024-11-06T07:23:12.633930Z"
    },
    "papermill": {
     "duration": 40.478945,
     "end_time": "2024-11-06T07:23:12.637683",
     "exception": false,
     "start_time": "2024-11-06T07:22:32.158738",
     "status": "completed"
    },
    "tags": []
   },
   "outputs": [],
   "source": [
    "train_data = pd.read_csv(\"/kaggle/input/newspaper-text-summarization-cnn-dailymail/cnn_dailymail/train.csv\")"
   ]
  },
  {
   "cell_type": "code",
   "execution_count": 4,
   "id": "8ca81266",
   "metadata": {
    "execution": {
     "iopub.execute_input": "2024-11-06T07:23:12.645910Z",
     "iopub.status.busy": "2024-11-06T07:23:12.645479Z",
     "iopub.status.idle": "2024-11-06T07:23:12.668996Z",
     "shell.execute_reply": "2024-11-06T07:23:12.667901Z"
    },
    "papermill": {
     "duration": 0.030537,
     "end_time": "2024-11-06T07:23:12.671618",
     "exception": false,
     "start_time": "2024-11-06T07:23:12.641081",
     "status": "completed"
    },
    "tags": []
   },
   "outputs": [
    {
     "data": {
      "text/html": [
       "<div>\n",
       "<style scoped>\n",
       "    .dataframe tbody tr th:only-of-type {\n",
       "        vertical-align: middle;\n",
       "    }\n",
       "\n",
       "    .dataframe tbody tr th {\n",
       "        vertical-align: top;\n",
       "    }\n",
       "\n",
       "    .dataframe thead th {\n",
       "        text-align: right;\n",
       "    }\n",
       "</style>\n",
       "<table border=\"1\" class=\"dataframe\">\n",
       "  <thead>\n",
       "    <tr style=\"text-align: right;\">\n",
       "      <th></th>\n",
       "      <th>id</th>\n",
       "      <th>article</th>\n",
       "      <th>highlights</th>\n",
       "    </tr>\n",
       "  </thead>\n",
       "  <tbody>\n",
       "    <tr>\n",
       "      <th>0</th>\n",
       "      <td>0001d1afc246a7964130f43ae940af6bc6c57f01</td>\n",
       "      <td>By . Associated Press . PUBLISHED: . 14:11 EST...</td>\n",
       "      <td>Bishop John Folda, of North Dakota, is taking ...</td>\n",
       "    </tr>\n",
       "    <tr>\n",
       "      <th>1</th>\n",
       "      <td>0002095e55fcbd3a2f366d9bf92a95433dc305ef</td>\n",
       "      <td>(CNN) -- Ralph Mata was an internal affairs li...</td>\n",
       "      <td>Criminal complaint: Cop used his role to help ...</td>\n",
       "    </tr>\n",
       "    <tr>\n",
       "      <th>2</th>\n",
       "      <td>00027e965c8264c35cc1bc55556db388da82b07f</td>\n",
       "      <td>A drunk driver who killed a young woman in a h...</td>\n",
       "      <td>Craig Eccleston-Todd, 27, had drunk at least t...</td>\n",
       "    </tr>\n",
       "    <tr>\n",
       "      <th>3</th>\n",
       "      <td>0002c17436637c4fe1837c935c04de47adb18e9a</td>\n",
       "      <td>(CNN) -- With a breezy sweep of his pen Presid...</td>\n",
       "      <td>Nina dos Santos says Europe must be ready to a...</td>\n",
       "    </tr>\n",
       "    <tr>\n",
       "      <th>4</th>\n",
       "      <td>0003ad6ef0c37534f80b55b4235108024b407f0b</td>\n",
       "      <td>Fleetwood are the only team still to have a 10...</td>\n",
       "      <td>Fleetwood top of League One after 2-0 win at S...</td>\n",
       "    </tr>\n",
       "    <tr>\n",
       "      <th>...</th>\n",
       "      <td>...</td>\n",
       "      <td>...</td>\n",
       "      <td>...</td>\n",
       "    </tr>\n",
       "    <tr>\n",
       "      <th>287108</th>\n",
       "      <td>fffdfb56fdf1a12d364562cc2b9b1d4de7481dee</td>\n",
       "      <td>By . James Rush . Former first daughter Chelse...</td>\n",
       "      <td>Chelsea Clinton said question of running for o...</td>\n",
       "    </tr>\n",
       "    <tr>\n",
       "      <th>287109</th>\n",
       "      <td>fffeecb8690b85de8c3faed80adbc7a978f9ae2a</td>\n",
       "      <td>An apologetic Vanilla Ice has given his first ...</td>\n",
       "      <td>Vanilla Ice, 47 - real name Robert Van Winkle ...</td>\n",
       "    </tr>\n",
       "    <tr>\n",
       "      <th>287110</th>\n",
       "      <td>ffff5231e4c71544bc6c97015cdb16c60e42b3f4</td>\n",
       "      <td>America's most lethal sniper claimed he wished...</td>\n",
       "      <td>America's most lethal sniper made comment in i...</td>\n",
       "    </tr>\n",
       "    <tr>\n",
       "      <th>287111</th>\n",
       "      <td>ffff924b14a8d82058b6c1c5368ff1113c1632af</td>\n",
       "      <td>By . Sara Malm . PUBLISHED: . 12:19 EST, 8 Mar...</td>\n",
       "      <td>A swarm of more than one million has crossed b...</td>\n",
       "    </tr>\n",
       "    <tr>\n",
       "      <th>287112</th>\n",
       "      <td>ffffd563a96104f5cf4493cfa701a65f31b06abf</td>\n",
       "      <td>(CNN)Former Florida Gov. Jeb Bush has decided ...</td>\n",
       "      <td>Other 2016 hopefuls maintain that Bush's annou...</td>\n",
       "    </tr>\n",
       "  </tbody>\n",
       "</table>\n",
       "<p>287113 rows × 3 columns</p>\n",
       "</div>"
      ],
      "text/plain": [
       "                                              id  \\\n",
       "0       0001d1afc246a7964130f43ae940af6bc6c57f01   \n",
       "1       0002095e55fcbd3a2f366d9bf92a95433dc305ef   \n",
       "2       00027e965c8264c35cc1bc55556db388da82b07f   \n",
       "3       0002c17436637c4fe1837c935c04de47adb18e9a   \n",
       "4       0003ad6ef0c37534f80b55b4235108024b407f0b   \n",
       "...                                          ...   \n",
       "287108  fffdfb56fdf1a12d364562cc2b9b1d4de7481dee   \n",
       "287109  fffeecb8690b85de8c3faed80adbc7a978f9ae2a   \n",
       "287110  ffff5231e4c71544bc6c97015cdb16c60e42b3f4   \n",
       "287111  ffff924b14a8d82058b6c1c5368ff1113c1632af   \n",
       "287112  ffffd563a96104f5cf4493cfa701a65f31b06abf   \n",
       "\n",
       "                                                  article  \\\n",
       "0       By . Associated Press . PUBLISHED: . 14:11 EST...   \n",
       "1       (CNN) -- Ralph Mata was an internal affairs li...   \n",
       "2       A drunk driver who killed a young woman in a h...   \n",
       "3       (CNN) -- With a breezy sweep of his pen Presid...   \n",
       "4       Fleetwood are the only team still to have a 10...   \n",
       "...                                                   ...   \n",
       "287108  By . James Rush . Former first daughter Chelse...   \n",
       "287109  An apologetic Vanilla Ice has given his first ...   \n",
       "287110  America's most lethal sniper claimed he wished...   \n",
       "287111  By . Sara Malm . PUBLISHED: . 12:19 EST, 8 Mar...   \n",
       "287112  (CNN)Former Florida Gov. Jeb Bush has decided ...   \n",
       "\n",
       "                                               highlights  \n",
       "0       Bishop John Folda, of North Dakota, is taking ...  \n",
       "1       Criminal complaint: Cop used his role to help ...  \n",
       "2       Craig Eccleston-Todd, 27, had drunk at least t...  \n",
       "3       Nina dos Santos says Europe must be ready to a...  \n",
       "4       Fleetwood top of League One after 2-0 win at S...  \n",
       "...                                                   ...  \n",
       "287108  Chelsea Clinton said question of running for o...  \n",
       "287109  Vanilla Ice, 47 - real name Robert Van Winkle ...  \n",
       "287110  America's most lethal sniper made comment in i...  \n",
       "287111  A swarm of more than one million has crossed b...  \n",
       "287112  Other 2016 hopefuls maintain that Bush's annou...  \n",
       "\n",
       "[287113 rows x 3 columns]"
      ]
     },
     "execution_count": 4,
     "metadata": {},
     "output_type": "execute_result"
    }
   ],
   "source": [
    "train_data"
   ]
  },
  {
   "cell_type": "code",
   "execution_count": 5,
   "id": "5f9da39b",
   "metadata": {
    "execution": {
     "iopub.execute_input": "2024-11-06T07:23:12.680056Z",
     "iopub.status.busy": "2024-11-06T07:23:12.679675Z",
     "iopub.status.idle": "2024-11-06T07:23:13.872562Z",
     "shell.execute_reply": "2024-11-06T07:23:13.871305Z"
    },
    "papermill": {
     "duration": 1.199896,
     "end_time": "2024-11-06T07:23:13.875020",
     "exception": false,
     "start_time": "2024-11-06T07:23:12.675124",
     "status": "completed"
    },
    "tags": []
   },
   "outputs": [],
   "source": [
    "test_data = pd.read_csv(\"/kaggle/input/newspaper-text-summarization-cnn-dailymail/cnn_dailymail/test.csv\")"
   ]
  },
  {
   "cell_type": "code",
   "execution_count": 6,
   "id": "722b324c",
   "metadata": {
    "execution": {
     "iopub.execute_input": "2024-11-06T07:23:13.884682Z",
     "iopub.status.busy": "2024-11-06T07:23:13.884233Z",
     "iopub.status.idle": "2024-11-06T07:23:13.897690Z",
     "shell.execute_reply": "2024-11-06T07:23:13.896614Z"
    },
    "papermill": {
     "duration": 0.021407,
     "end_time": "2024-11-06T07:23:13.900045",
     "exception": false,
     "start_time": "2024-11-06T07:23:13.878638",
     "status": "completed"
    },
    "tags": []
   },
   "outputs": [
    {
     "data": {
      "text/html": [
       "<div>\n",
       "<style scoped>\n",
       "    .dataframe tbody tr th:only-of-type {\n",
       "        vertical-align: middle;\n",
       "    }\n",
       "\n",
       "    .dataframe tbody tr th {\n",
       "        vertical-align: top;\n",
       "    }\n",
       "\n",
       "    .dataframe thead th {\n",
       "        text-align: right;\n",
       "    }\n",
       "</style>\n",
       "<table border=\"1\" class=\"dataframe\">\n",
       "  <thead>\n",
       "    <tr style=\"text-align: right;\">\n",
       "      <th></th>\n",
       "      <th>id</th>\n",
       "      <th>article</th>\n",
       "      <th>highlights</th>\n",
       "    </tr>\n",
       "  </thead>\n",
       "  <tbody>\n",
       "    <tr>\n",
       "      <th>0</th>\n",
       "      <td>92c514c913c0bdfe25341af9fd72b29db544099b</td>\n",
       "      <td>Ever noticed how plane seats appear to be gett...</td>\n",
       "      <td>Experts question if  packed out planes are put...</td>\n",
       "    </tr>\n",
       "    <tr>\n",
       "      <th>1</th>\n",
       "      <td>2003841c7dc0e7c5b1a248f9cd536d727f27a45a</td>\n",
       "      <td>A drunk teenage boy had to be rescued by secur...</td>\n",
       "      <td>Drunk teenage boy climbed into lion enclosure ...</td>\n",
       "    </tr>\n",
       "    <tr>\n",
       "      <th>2</th>\n",
       "      <td>91b7d2311527f5c2b63a65ca98d21d9c92485149</td>\n",
       "      <td>Dougie Freedman is on the verge of agreeing a ...</td>\n",
       "      <td>Nottingham Forest are close to extending Dougi...</td>\n",
       "    </tr>\n",
       "    <tr>\n",
       "      <th>3</th>\n",
       "      <td>caabf9cbdf96eb1410295a673e953d304391bfbb</td>\n",
       "      <td>Liverpool target Neto is also wanted by PSG an...</td>\n",
       "      <td>Fiorentina goalkeeper Neto has been linked wit...</td>\n",
       "    </tr>\n",
       "    <tr>\n",
       "      <th>4</th>\n",
       "      <td>3da746a7d9afcaa659088c8366ef6347fe6b53ea</td>\n",
       "      <td>Bruce Jenner will break his silence in a two-h...</td>\n",
       "      <td>Tell-all interview with the reality TV star, 6...</td>\n",
       "    </tr>\n",
       "    <tr>\n",
       "      <th>...</th>\n",
       "      <td>...</td>\n",
       "      <td>...</td>\n",
       "      <td>...</td>\n",
       "    </tr>\n",
       "    <tr>\n",
       "      <th>11485</th>\n",
       "      <td>ed8674cc15b29a87d8df8de1efee353d71122272</td>\n",
       "      <td>Our young Earth may have collided with a body ...</td>\n",
       "      <td>Oxford scientists say a Mercury-like body stru...</td>\n",
       "    </tr>\n",
       "    <tr>\n",
       "      <th>11486</th>\n",
       "      <td>2f58d1a99e9c47914e4b1c31613e3a041cd9011e</td>\n",
       "      <td>A man facing trial for helping his former love...</td>\n",
       "      <td>Man accused of helping former lover kill woman...</td>\n",
       "    </tr>\n",
       "    <tr>\n",
       "      <th>11487</th>\n",
       "      <td>411f6d57825161c3a037b4742baccd6cd227c0c3</td>\n",
       "      <td>A dozen or more metal implements are arranged ...</td>\n",
       "      <td>Marianne Power tried the tuning fork facial at...</td>\n",
       "    </tr>\n",
       "    <tr>\n",
       "      <th>11488</th>\n",
       "      <td>b5683ef8342056b17b068e0d59bdbe87e3fe44ea</td>\n",
       "      <td>Brook Lopez dominated twin brother Robin with ...</td>\n",
       "      <td>Brooklyn Nets beat the Portland Trail Blazers ...</td>\n",
       "    </tr>\n",
       "    <tr>\n",
       "      <th>11489</th>\n",
       "      <td>a6a5491edb0c96c4391b6a8c4504416b3572b3a1</td>\n",
       "      <td>A Chinese hospital is being painstakingly move...</td>\n",
       "      <td>Chinese hospital marked for demolition because...</td>\n",
       "    </tr>\n",
       "  </tbody>\n",
       "</table>\n",
       "<p>11490 rows × 3 columns</p>\n",
       "</div>"
      ],
      "text/plain": [
       "                                             id  \\\n",
       "0      92c514c913c0bdfe25341af9fd72b29db544099b   \n",
       "1      2003841c7dc0e7c5b1a248f9cd536d727f27a45a   \n",
       "2      91b7d2311527f5c2b63a65ca98d21d9c92485149   \n",
       "3      caabf9cbdf96eb1410295a673e953d304391bfbb   \n",
       "4      3da746a7d9afcaa659088c8366ef6347fe6b53ea   \n",
       "...                                         ...   \n",
       "11485  ed8674cc15b29a87d8df8de1efee353d71122272   \n",
       "11486  2f58d1a99e9c47914e4b1c31613e3a041cd9011e   \n",
       "11487  411f6d57825161c3a037b4742baccd6cd227c0c3   \n",
       "11488  b5683ef8342056b17b068e0d59bdbe87e3fe44ea   \n",
       "11489  a6a5491edb0c96c4391b6a8c4504416b3572b3a1   \n",
       "\n",
       "                                                 article  \\\n",
       "0      Ever noticed how plane seats appear to be gett...   \n",
       "1      A drunk teenage boy had to be rescued by secur...   \n",
       "2      Dougie Freedman is on the verge of agreeing a ...   \n",
       "3      Liverpool target Neto is also wanted by PSG an...   \n",
       "4      Bruce Jenner will break his silence in a two-h...   \n",
       "...                                                  ...   \n",
       "11485  Our young Earth may have collided with a body ...   \n",
       "11486  A man facing trial for helping his former love...   \n",
       "11487  A dozen or more metal implements are arranged ...   \n",
       "11488  Brook Lopez dominated twin brother Robin with ...   \n",
       "11489  A Chinese hospital is being painstakingly move...   \n",
       "\n",
       "                                              highlights  \n",
       "0      Experts question if  packed out planes are put...  \n",
       "1      Drunk teenage boy climbed into lion enclosure ...  \n",
       "2      Nottingham Forest are close to extending Dougi...  \n",
       "3      Fiorentina goalkeeper Neto has been linked wit...  \n",
       "4      Tell-all interview with the reality TV star, 6...  \n",
       "...                                                  ...  \n",
       "11485  Oxford scientists say a Mercury-like body stru...  \n",
       "11486  Man accused of helping former lover kill woman...  \n",
       "11487  Marianne Power tried the tuning fork facial at...  \n",
       "11488  Brooklyn Nets beat the Portland Trail Blazers ...  \n",
       "11489  Chinese hospital marked for demolition because...  \n",
       "\n",
       "[11490 rows x 3 columns]"
      ]
     },
     "execution_count": 6,
     "metadata": {},
     "output_type": "execute_result"
    }
   ],
   "source": [
    "test_data"
   ]
  },
  {
   "cell_type": "code",
   "execution_count": 7,
   "id": "57b9e50e",
   "metadata": {
    "execution": {
     "iopub.execute_input": "2024-11-06T07:23:13.909592Z",
     "iopub.status.busy": "2024-11-06T07:23:13.909165Z",
     "iopub.status.idle": "2024-11-06T07:23:15.366802Z",
     "shell.execute_reply": "2024-11-06T07:23:15.365432Z"
    },
    "papermill": {
     "duration": 1.465757,
     "end_time": "2024-11-06T07:23:15.369694",
     "exception": false,
     "start_time": "2024-11-06T07:23:13.903937",
     "status": "completed"
    },
    "tags": []
   },
   "outputs": [],
   "source": [
    "val_data = pd.read_csv(\"/kaggle/input/newspaper-text-summarization-cnn-dailymail/cnn_dailymail/validation.csv\")"
   ]
  },
  {
   "cell_type": "code",
   "execution_count": 8,
   "id": "84250eaa",
   "metadata": {
    "execution": {
     "iopub.execute_input": "2024-11-06T07:23:15.382171Z",
     "iopub.status.busy": "2024-11-06T07:23:15.381738Z",
     "iopub.status.idle": "2024-11-06T07:23:15.395685Z",
     "shell.execute_reply": "2024-11-06T07:23:15.394558Z"
    },
    "papermill": {
     "duration": 0.023839,
     "end_time": "2024-11-06T07:23:15.398201",
     "exception": false,
     "start_time": "2024-11-06T07:23:15.374362",
     "status": "completed"
    },
    "tags": []
   },
   "outputs": [
    {
     "data": {
      "text/html": [
       "<div>\n",
       "<style scoped>\n",
       "    .dataframe tbody tr th:only-of-type {\n",
       "        vertical-align: middle;\n",
       "    }\n",
       "\n",
       "    .dataframe tbody tr th {\n",
       "        vertical-align: top;\n",
       "    }\n",
       "\n",
       "    .dataframe thead th {\n",
       "        text-align: right;\n",
       "    }\n",
       "</style>\n",
       "<table border=\"1\" class=\"dataframe\">\n",
       "  <thead>\n",
       "    <tr style=\"text-align: right;\">\n",
       "      <th></th>\n",
       "      <th>id</th>\n",
       "      <th>article</th>\n",
       "      <th>highlights</th>\n",
       "    </tr>\n",
       "  </thead>\n",
       "  <tbody>\n",
       "    <tr>\n",
       "      <th>0</th>\n",
       "      <td>61df4979ac5fcc2b71be46ed6fe5a46ce7f071c3</td>\n",
       "      <td>Sally Forrest, an actress-dancer who graced th...</td>\n",
       "      <td>Sally Forrest, an actress-dancer who graced th...</td>\n",
       "    </tr>\n",
       "    <tr>\n",
       "      <th>1</th>\n",
       "      <td>21c0bd69b7e7df285c3d1b1cf56d4da925980a68</td>\n",
       "      <td>A middle-school teacher in China has inked hun...</td>\n",
       "      <td>Works include pictures of Presidential Palace ...</td>\n",
       "    </tr>\n",
       "    <tr>\n",
       "      <th>2</th>\n",
       "      <td>56f340189cd128194b2e7cb8c26bb900e3a848b4</td>\n",
       "      <td>A man convicted of killing the father and sist...</td>\n",
       "      <td>Iftekhar Murtaza, 29, was convicted a year ago...</td>\n",
       "    </tr>\n",
       "    <tr>\n",
       "      <th>3</th>\n",
       "      <td>00a665151b89a53e5a08a389df8334f4106494c2</td>\n",
       "      <td>Avid rugby fan Prince Harry could barely watch...</td>\n",
       "      <td>Prince Harry in attendance for England's crunc...</td>\n",
       "    </tr>\n",
       "    <tr>\n",
       "      <th>4</th>\n",
       "      <td>9f6fbd3c497c4d28879bebebea220884f03eb41a</td>\n",
       "      <td>A Triple M Radio producer has been inundated w...</td>\n",
       "      <td>Nick Slater's colleagues uploaded a picture to...</td>\n",
       "    </tr>\n",
       "    <tr>\n",
       "      <th>...</th>\n",
       "      <td>...</td>\n",
       "      <td>...</td>\n",
       "      <td>...</td>\n",
       "    </tr>\n",
       "    <tr>\n",
       "      <th>13363</th>\n",
       "      <td>e93f721ba4949f21f33549c4a21d55ff456af979</td>\n",
       "      <td>All shops will be allowed to offer ‘click and ...</td>\n",
       "      <td>Shops won't have to apply for planning permiss...</td>\n",
       "    </tr>\n",
       "    <tr>\n",
       "      <th>13364</th>\n",
       "      <td>8df19a570ad14119a7d00f3bbe864fedf8c1691d</td>\n",
       "      <td>Mo Farah has had his nationality called into q...</td>\n",
       "      <td>Mo Farah broke the European half-marathon reco...</td>\n",
       "    </tr>\n",
       "    <tr>\n",
       "      <th>13365</th>\n",
       "      <td>2fdd5f89aa26e91ceea9b0ef264abfcfc3e6fa2e</td>\n",
       "      <td>Wolves kept their promotion hopes alive with a...</td>\n",
       "      <td>Wolves are three points off the play-off place...</td>\n",
       "    </tr>\n",
       "    <tr>\n",
       "      <th>13366</th>\n",
       "      <td>530d7b18d7a715b368b0745f9dfebfe353adeda8</td>\n",
       "      <td>A Brown University graduate student  has died ...</td>\n",
       "      <td>Hyoun Ju Sohn, a 25-year-old doctoral student,...</td>\n",
       "    </tr>\n",
       "    <tr>\n",
       "      <th>13367</th>\n",
       "      <td>42d6f6e10a45ff469fbe3ef7345838aa45dcdd61</td>\n",
       "      <td>As thousands of young Australians look to buy ...</td>\n",
       "      <td>60% of estate agents believe owning a home is ...</td>\n",
       "    </tr>\n",
       "  </tbody>\n",
       "</table>\n",
       "<p>13368 rows × 3 columns</p>\n",
       "</div>"
      ],
      "text/plain": [
       "                                             id  \\\n",
       "0      61df4979ac5fcc2b71be46ed6fe5a46ce7f071c3   \n",
       "1      21c0bd69b7e7df285c3d1b1cf56d4da925980a68   \n",
       "2      56f340189cd128194b2e7cb8c26bb900e3a848b4   \n",
       "3      00a665151b89a53e5a08a389df8334f4106494c2   \n",
       "4      9f6fbd3c497c4d28879bebebea220884f03eb41a   \n",
       "...                                         ...   \n",
       "13363  e93f721ba4949f21f33549c4a21d55ff456af979   \n",
       "13364  8df19a570ad14119a7d00f3bbe864fedf8c1691d   \n",
       "13365  2fdd5f89aa26e91ceea9b0ef264abfcfc3e6fa2e   \n",
       "13366  530d7b18d7a715b368b0745f9dfebfe353adeda8   \n",
       "13367  42d6f6e10a45ff469fbe3ef7345838aa45dcdd61   \n",
       "\n",
       "                                                 article  \\\n",
       "0      Sally Forrest, an actress-dancer who graced th...   \n",
       "1      A middle-school teacher in China has inked hun...   \n",
       "2      A man convicted of killing the father and sist...   \n",
       "3      Avid rugby fan Prince Harry could barely watch...   \n",
       "4      A Triple M Radio producer has been inundated w...   \n",
       "...                                                  ...   \n",
       "13363  All shops will be allowed to offer ‘click and ...   \n",
       "13364  Mo Farah has had his nationality called into q...   \n",
       "13365  Wolves kept their promotion hopes alive with a...   \n",
       "13366  A Brown University graduate student  has died ...   \n",
       "13367  As thousands of young Australians look to buy ...   \n",
       "\n",
       "                                              highlights  \n",
       "0      Sally Forrest, an actress-dancer who graced th...  \n",
       "1      Works include pictures of Presidential Palace ...  \n",
       "2      Iftekhar Murtaza, 29, was convicted a year ago...  \n",
       "3      Prince Harry in attendance for England's crunc...  \n",
       "4      Nick Slater's colleagues uploaded a picture to...  \n",
       "...                                                  ...  \n",
       "13363  Shops won't have to apply for planning permiss...  \n",
       "13364  Mo Farah broke the European half-marathon reco...  \n",
       "13365  Wolves are three points off the play-off place...  \n",
       "13366  Hyoun Ju Sohn, a 25-year-old doctoral student,...  \n",
       "13367  60% of estate agents believe owning a home is ...  \n",
       "\n",
       "[13368 rows x 3 columns]"
      ]
     },
     "execution_count": 8,
     "metadata": {},
     "output_type": "execute_result"
    }
   ],
   "source": [
    "val_data"
   ]
  }
 ],
 "metadata": {
  "kaggle": {
   "accelerator": "none",
   "dataSources": [
    {
     "datasetId": 1654566,
     "sourceId": 2734496,
     "sourceType": "datasetVersion"
    }
   ],
   "dockerImageVersionId": 30786,
   "isGpuEnabled": false,
   "isInternetEnabled": true,
   "language": "python",
   "sourceType": "notebook"
  },
  "kernelspec": {
   "display_name": "Python 3",
   "language": "python",
   "name": "python3"
  },
  "language_info": {
   "codemirror_mode": {
    "name": "ipython",
    "version": 3
   },
   "file_extension": ".py",
   "mimetype": "text/x-python",
   "name": "python",
   "nbconvert_exporter": "python",
   "pygments_lexer": "ipython3",
   "version": "3.10.14"
  },
  "papermill": {
   "default_parameters": {},
   "duration": 51.729599,
   "end_time": "2024-11-06T07:23:16.425702",
   "environment_variables": {},
   "exception": null,
   "input_path": "__notebook__.ipynb",
   "output_path": "__notebook__.ipynb",
   "parameters": {},
   "start_time": "2024-11-06T07:22:24.696103",
   "version": "2.6.0"
  }
 },
 "nbformat": 4,
 "nbformat_minor": 5
}
